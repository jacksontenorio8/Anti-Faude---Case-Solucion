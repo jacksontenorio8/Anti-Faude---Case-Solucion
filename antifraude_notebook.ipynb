{
  "cells": [
    {
      "cell_type": "markdown",
      "metadata": {},
      "source": "# Sistema Antifraude com An\u00e1lise de Dados Transacionais\n\nEste notebook segue o plano de an\u00e1lise para investigar fraudes em transa\u00e7\u00f5es m\u00f3veis e construir um sistema antifraude simples baseado em regras e/ou machine learning."
    },
    {
      "cell_type": "code",
      "execution_count": null,
      "metadata": {},
      "outputs": [],
      "source": "# Bibliotecas principais\nimport pandas as pd\nimport numpy as np\nimport matplotlib.pyplot as plt\nimport seaborn as sns\nfrom datetime import datetime, timedelta\n\n# Visualiza\u00e7\u00e3o\nsns.set(style='whitegrid')"
    },
    {
      "cell_type": "markdown",
      "metadata": {},
      "source": "## 1. Leitura dos dados"
    },
    {
      "cell_type": "code",
      "execution_count": null,
      "metadata": {},
      "outputs": [],
      "source": "# Substitua pelo caminho do seu CSV\ndf = pd.read_csv('dados_transacoes.csv')\ndf.head()"
    },
    {
      "cell_type": "markdown",
      "metadata": {},
      "source": "## 2. Pr\u00e9-processamento dos dados"
    },
    {
      "cell_type": "code",
      "execution_count": null,
      "metadata": {},
      "outputs": [],
      "source": "# Verificando nulos e tipos de dados\nprint(df.info())\nprint(\"\\nNulos:\\n\", df.isnull().sum())\n\n# Convertendo datas\nif df['transaction_date'].dtype == 'object':\n    df['transaction_date'] = pd.to_datetime(df['transaction_date'])"
    },
    {
      "cell_type": "code",
      "execution_count": null,
      "metadata": {},
      "outputs": [],
      "source": "# Removendo duplicatas e dados inconsistentes\ndf = df.drop_duplicates()\ndf = df[df['transaction_amount'] > 0]\n\n# Normalizando colunas de texto se necess\u00e1rio (ex: card_number)\ndf['card_number'] = df['card_number'].astype(str).str.replace(r'\\D', '', regex=True)"
    },
    {
      "cell_type": "markdown",
      "metadata": {},
      "source": "## 3. An\u00e1lise Explorat\u00f3ria"
    },
    {
      "cell_type": "code",
      "execution_count": null,
      "metadata": {},
      "outputs": [],
      "source": "# Estat\u00edsticas gerais\nprint(df.describe())\nprint(\"\\nTransa\u00e7\u00f5es com estorno:\", df['has_cbk'].sum())"
    },
    {
      "cell_type": "code",
      "execution_count": null,
      "metadata": {},
      "outputs": [],
      "source": "# Distribui\u00e7\u00e3o temporal\ndf['hour'] = df['transaction_date'].dt.hour\ndf['day'] = df['transaction_date'].dt.date\n\nplt.figure(figsize=(10,4))\nsns.countplot(x='hour', data=df, hue='has_cbk')\nplt.title('Transa\u00e7\u00f5es por Hora com Estornos')\nplt.show()"
    },
    {
      "cell_type": "markdown",
      "metadata": {},
      "source": "## 4. Regras Antifraude Simples"
    },
    {
      "cell_type": "code",
      "execution_count": null,
      "metadata": {},
      "outputs": [],
      "source": "# Sistema antifraude baseado em regras simples\ndef avaliar_transacao(transacao, historico):\n    user_transacoes = historico[historico['user_id'] == transacao['user_id']]\n\n    # Regra 1: Mais de 5 transa\u00e7\u00f5es na \u00faltima hora\n    recentes = user_transacoes[user_transacoes['transaction_date'] > transacao['transaction_date'] - timedelta(hours=1)]\n    if len(recentes) > 5:\n        return \"recusar\"\n\n    # Regra 2: Limite di\u00e1rio > R$5000\n    dia = transacao['transaction_date'].date()\n    total_dia = user_transacoes[user_transacoes['transaction_date'].dt.date == dia]['transaction_amount'].sum()\n    if total_dia + transacao['transaction_amount'] > 5000:\n        return \"recusar\"\n\n    # Regra 3: Usu\u00e1rio com hist\u00f3rico de estorno\n    if user_transacoes['has_cbk'].any():\n        return \"recusar\"\n\n    return \"aprovar\""
    },
    {
      "cell_type": "markdown",
      "metadata": {},
      "source": "## 5. Simula\u00e7\u00e3o de avalia\u00e7\u00e3o de transa\u00e7\u00f5es"
    },
    {
      "cell_type": "code",
      "execution_count": null,
      "metadata": {},
      "outputs": [],
      "source": "# Exemplo: simular decis\u00f5es\nresultados = []\n\nfor i, row in df.iterrows():\n    decisao = avaliar_transacao(row, df[df['transaction_date'] < row['transaction_date']])\n    resultados.append(decisao)\n\ndf['recomendacao'] = resultados\n\n# Comparando com estornos reais\ndf[['recomendacao', 'has_cbk']].value_counts(normalize=True)"
    },
    {
      "cell_type": "markdown",
      "metadata": {},
      "source": "## 6. Conclus\u00f5es e pr\u00f3ximos passos"
    },
    {
      "cell_type": "code",
      "execution_count": null,
      "metadata": {},
      "outputs": [],
      "source": "# Exemplo de recomenda\u00e7\u00e3o de melhoria\nprint(\"Sugest\u00e3o: adicionar geolocaliza\u00e7\u00e3o e device_info para melhorar o score de risco.\")"
    }
  ],
  "metadata": {
    "kernelspec": {
      "display_name": "Python 3",
      "language": "python",
      "name": "python3"
    },
    "language_info": {
      "name": "python",
      "version": "3.8"
    }
  },
  "nbformat": 4,
  "nbformat_minor": 5
}