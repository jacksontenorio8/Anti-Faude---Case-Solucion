{
  "cells": [
    {
      "cell_type": "markdown",
      "metadata": {
        "id": "view-in-github",
        "colab_type": "text"
      },
      "source": [
        "<a href=\"https://colab.research.google.com/github/jacksontenorio8/Anti-Faude---Case-Solucion/blob/main/antifraude_notebook.ipynb\" target=\"_parent\"><img src=\"https://colab.research.google.com/assets/colab-badge.svg\" alt=\"Open In Colab\"/></a>"
      ]
    },
    {
      "cell_type": "markdown",
      "metadata": {
        "id": "lpLCyoMYBu4A"
      },
      "source": [
        "# Sistema Antifraude com Análise de Dados Transacionais\n",
        "\n",
        "Este notebook segue o plano de análise para investigar fraudes em transações móveis e construir um sistema antifraude simples baseado em regras e/ou machine learning."
      ],
      "id": "lpLCyoMYBu4A"
    },
    {
      "cell_type": "code",
      "source": [
        "from google.colab import drive\n",
        "drive.mount('/content/drive')"
      ],
      "metadata": {
        "id": "K8KURLliH2OB",
        "outputId": "c073f92c-a306-46e7-d0ea-cd8b94b86355",
        "colab": {
          "base_uri": "https://localhost:8080/"
        }
      },
      "id": "K8KURLliH2OB",
      "execution_count": 1,
      "outputs": [
        {
          "output_type": "stream",
          "name": "stdout",
          "text": [
            "Mounted at /content/drive\n"
          ]
        }
      ]
    },
    {
      "cell_type": "code",
      "execution_count": 2,
      "metadata": {
        "id": "cR17kkt8Bu4C"
      },
      "outputs": [],
      "source": [
        "# Bibliotecas principais\n",
        "import pandas as pd\n",
        "import numpy as np\n",
        "import matplotlib.pyplot as plt\n",
        "import seaborn as sns\n",
        "from datetime import datetime, timedelta\n",
        "\n",
        "# Visualização\n",
        "sns.set(style='whitegrid')"
      ],
      "id": "cR17kkt8Bu4C"
    },
    {
      "cell_type": "markdown",
      "metadata": {
        "id": "5eDwGCIzBu4E"
      },
      "source": [
        "## 1. Leitura dos dados"
      ],
      "id": "5eDwGCIzBu4E"
    },
    {
      "cell_type": "code",
      "execution_count": 3,
      "metadata": {
        "id": "DTGQLQ_PBu4E",
        "outputId": "eca47752-6580-491a-d101-c3f8b6c6ecac",
        "colab": {
          "base_uri": "https://localhost:8080/",
          "height": 206
        }
      },
      "outputs": [
        {
          "output_type": "execute_result",
          "data": {
            "text/plain": [
              "   transaction_id  merchant_id  user_id       card_number  \\\n",
              "0        21320398        29744    97051  434505******9116   \n",
              "1        21320399        92895     2708  444456******4210   \n",
              "2        21320400        47759    14777  425850******7024   \n",
              "3        21320401        68657    69758  464296******3991   \n",
              "4        21320402        54075    64367  650487******6116   \n",
              "\n",
              "             transaction_date  transaction_amount  device_id  has_cbk  \n",
              "0  2019-12-01T23:16:32.812632              374.56   285475.0    False  \n",
              "1  2019-12-01T22:45:37.873639              734.87   497105.0     True  \n",
              "2  2019-12-01T22:22:43.021495              760.36        NaN    False  \n",
              "3  2019-12-01T21:59:19.797129             2556.13        NaN     True  \n",
              "4  2019-12-01T21:30:53.347051               55.36   860232.0    False  "
            ],
            "text/html": [
              "\n",
              "  <div id=\"df-47985565-1225-47df-8a33-6cf38fe17a53\" class=\"colab-df-container\">\n",
              "    <div>\n",
              "<style scoped>\n",
              "    .dataframe tbody tr th:only-of-type {\n",
              "        vertical-align: middle;\n",
              "    }\n",
              "\n",
              "    .dataframe tbody tr th {\n",
              "        vertical-align: top;\n",
              "    }\n",
              "\n",
              "    .dataframe thead th {\n",
              "        text-align: right;\n",
              "    }\n",
              "</style>\n",
              "<table border=\"1\" class=\"dataframe\">\n",
              "  <thead>\n",
              "    <tr style=\"text-align: right;\">\n",
              "      <th></th>\n",
              "      <th>transaction_id</th>\n",
              "      <th>merchant_id</th>\n",
              "      <th>user_id</th>\n",
              "      <th>card_number</th>\n",
              "      <th>transaction_date</th>\n",
              "      <th>transaction_amount</th>\n",
              "      <th>device_id</th>\n",
              "      <th>has_cbk</th>\n",
              "    </tr>\n",
              "  </thead>\n",
              "  <tbody>\n",
              "    <tr>\n",
              "      <th>0</th>\n",
              "      <td>21320398</td>\n",
              "      <td>29744</td>\n",
              "      <td>97051</td>\n",
              "      <td>434505******9116</td>\n",
              "      <td>2019-12-01T23:16:32.812632</td>\n",
              "      <td>374.56</td>\n",
              "      <td>285475.0</td>\n",
              "      <td>False</td>\n",
              "    </tr>\n",
              "    <tr>\n",
              "      <th>1</th>\n",
              "      <td>21320399</td>\n",
              "      <td>92895</td>\n",
              "      <td>2708</td>\n",
              "      <td>444456******4210</td>\n",
              "      <td>2019-12-01T22:45:37.873639</td>\n",
              "      <td>734.87</td>\n",
              "      <td>497105.0</td>\n",
              "      <td>True</td>\n",
              "    </tr>\n",
              "    <tr>\n",
              "      <th>2</th>\n",
              "      <td>21320400</td>\n",
              "      <td>47759</td>\n",
              "      <td>14777</td>\n",
              "      <td>425850******7024</td>\n",
              "      <td>2019-12-01T22:22:43.021495</td>\n",
              "      <td>760.36</td>\n",
              "      <td>NaN</td>\n",
              "      <td>False</td>\n",
              "    </tr>\n",
              "    <tr>\n",
              "      <th>3</th>\n",
              "      <td>21320401</td>\n",
              "      <td>68657</td>\n",
              "      <td>69758</td>\n",
              "      <td>464296******3991</td>\n",
              "      <td>2019-12-01T21:59:19.797129</td>\n",
              "      <td>2556.13</td>\n",
              "      <td>NaN</td>\n",
              "      <td>True</td>\n",
              "    </tr>\n",
              "    <tr>\n",
              "      <th>4</th>\n",
              "      <td>21320402</td>\n",
              "      <td>54075</td>\n",
              "      <td>64367</td>\n",
              "      <td>650487******6116</td>\n",
              "      <td>2019-12-01T21:30:53.347051</td>\n",
              "      <td>55.36</td>\n",
              "      <td>860232.0</td>\n",
              "      <td>False</td>\n",
              "    </tr>\n",
              "  </tbody>\n",
              "</table>\n",
              "</div>\n",
              "    <div class=\"colab-df-buttons\">\n",
              "\n",
              "  <div class=\"colab-df-container\">\n",
              "    <button class=\"colab-df-convert\" onclick=\"convertToInteractive('df-47985565-1225-47df-8a33-6cf38fe17a53')\"\n",
              "            title=\"Convert this dataframe to an interactive table.\"\n",
              "            style=\"display:none;\">\n",
              "\n",
              "  <svg xmlns=\"http://www.w3.org/2000/svg\" height=\"24px\" viewBox=\"0 -960 960 960\">\n",
              "    <path d=\"M120-120v-720h720v720H120Zm60-500h600v-160H180v160Zm220 220h160v-160H400v160Zm0 220h160v-160H400v160ZM180-400h160v-160H180v160Zm440 0h160v-160H620v160ZM180-180h160v-160H180v160Zm440 0h160v-160H620v160Z\"/>\n",
              "  </svg>\n",
              "    </button>\n",
              "\n",
              "  <style>\n",
              "    .colab-df-container {\n",
              "      display:flex;\n",
              "      gap: 12px;\n",
              "    }\n",
              "\n",
              "    .colab-df-convert {\n",
              "      background-color: #E8F0FE;\n",
              "      border: none;\n",
              "      border-radius: 50%;\n",
              "      cursor: pointer;\n",
              "      display: none;\n",
              "      fill: #1967D2;\n",
              "      height: 32px;\n",
              "      padding: 0 0 0 0;\n",
              "      width: 32px;\n",
              "    }\n",
              "\n",
              "    .colab-df-convert:hover {\n",
              "      background-color: #E2EBFA;\n",
              "      box-shadow: 0px 1px 2px rgba(60, 64, 67, 0.3), 0px 1px 3px 1px rgba(60, 64, 67, 0.15);\n",
              "      fill: #174EA6;\n",
              "    }\n",
              "\n",
              "    .colab-df-buttons div {\n",
              "      margin-bottom: 4px;\n",
              "    }\n",
              "\n",
              "    [theme=dark] .colab-df-convert {\n",
              "      background-color: #3B4455;\n",
              "      fill: #D2E3FC;\n",
              "    }\n",
              "\n",
              "    [theme=dark] .colab-df-convert:hover {\n",
              "      background-color: #434B5C;\n",
              "      box-shadow: 0px 1px 3px 1px rgba(0, 0, 0, 0.15);\n",
              "      filter: drop-shadow(0px 1px 2px rgba(0, 0, 0, 0.3));\n",
              "      fill: #FFFFFF;\n",
              "    }\n",
              "  </style>\n",
              "\n",
              "    <script>\n",
              "      const buttonEl =\n",
              "        document.querySelector('#df-47985565-1225-47df-8a33-6cf38fe17a53 button.colab-df-convert');\n",
              "      buttonEl.style.display =\n",
              "        google.colab.kernel.accessAllowed ? 'block' : 'none';\n",
              "\n",
              "      async function convertToInteractive(key) {\n",
              "        const element = document.querySelector('#df-47985565-1225-47df-8a33-6cf38fe17a53');\n",
              "        const dataTable =\n",
              "          await google.colab.kernel.invokeFunction('convertToInteractive',\n",
              "                                                    [key], {});\n",
              "        if (!dataTable) return;\n",
              "\n",
              "        const docLinkHtml = 'Like what you see? Visit the ' +\n",
              "          '<a target=\"_blank\" href=https://colab.research.google.com/notebooks/data_table.ipynb>data table notebook</a>'\n",
              "          + ' to learn more about interactive tables.';\n",
              "        element.innerHTML = '';\n",
              "        dataTable['output_type'] = 'display_data';\n",
              "        await google.colab.output.renderOutput(dataTable, element);\n",
              "        const docLink = document.createElement('div');\n",
              "        docLink.innerHTML = docLinkHtml;\n",
              "        element.appendChild(docLink);\n",
              "      }\n",
              "    </script>\n",
              "  </div>\n",
              "\n",
              "\n",
              "    <div id=\"df-3c7265fb-2f9a-47e1-a51e-a8eef9c80ab4\">\n",
              "      <button class=\"colab-df-quickchart\" onclick=\"quickchart('df-3c7265fb-2f9a-47e1-a51e-a8eef9c80ab4')\"\n",
              "                title=\"Suggest charts\"\n",
              "                style=\"display:none;\">\n",
              "\n",
              "<svg xmlns=\"http://www.w3.org/2000/svg\" height=\"24px\"viewBox=\"0 0 24 24\"\n",
              "     width=\"24px\">\n",
              "    <g>\n",
              "        <path d=\"M19 3H5c-1.1 0-2 .9-2 2v14c0 1.1.9 2 2 2h14c1.1 0 2-.9 2-2V5c0-1.1-.9-2-2-2zM9 17H7v-7h2v7zm4 0h-2V7h2v10zm4 0h-2v-4h2v4z\"/>\n",
              "    </g>\n",
              "</svg>\n",
              "      </button>\n",
              "\n",
              "<style>\n",
              "  .colab-df-quickchart {\n",
              "      --bg-color: #E8F0FE;\n",
              "      --fill-color: #1967D2;\n",
              "      --hover-bg-color: #E2EBFA;\n",
              "      --hover-fill-color: #174EA6;\n",
              "      --disabled-fill-color: #AAA;\n",
              "      --disabled-bg-color: #DDD;\n",
              "  }\n",
              "\n",
              "  [theme=dark] .colab-df-quickchart {\n",
              "      --bg-color: #3B4455;\n",
              "      --fill-color: #D2E3FC;\n",
              "      --hover-bg-color: #434B5C;\n",
              "      --hover-fill-color: #FFFFFF;\n",
              "      --disabled-bg-color: #3B4455;\n",
              "      --disabled-fill-color: #666;\n",
              "  }\n",
              "\n",
              "  .colab-df-quickchart {\n",
              "    background-color: var(--bg-color);\n",
              "    border: none;\n",
              "    border-radius: 50%;\n",
              "    cursor: pointer;\n",
              "    display: none;\n",
              "    fill: var(--fill-color);\n",
              "    height: 32px;\n",
              "    padding: 0;\n",
              "    width: 32px;\n",
              "  }\n",
              "\n",
              "  .colab-df-quickchart:hover {\n",
              "    background-color: var(--hover-bg-color);\n",
              "    box-shadow: 0 1px 2px rgba(60, 64, 67, 0.3), 0 1px 3px 1px rgba(60, 64, 67, 0.15);\n",
              "    fill: var(--button-hover-fill-color);\n",
              "  }\n",
              "\n",
              "  .colab-df-quickchart-complete:disabled,\n",
              "  .colab-df-quickchart-complete:disabled:hover {\n",
              "    background-color: var(--disabled-bg-color);\n",
              "    fill: var(--disabled-fill-color);\n",
              "    box-shadow: none;\n",
              "  }\n",
              "\n",
              "  .colab-df-spinner {\n",
              "    border: 2px solid var(--fill-color);\n",
              "    border-color: transparent;\n",
              "    border-bottom-color: var(--fill-color);\n",
              "    animation:\n",
              "      spin 1s steps(1) infinite;\n",
              "  }\n",
              "\n",
              "  @keyframes spin {\n",
              "    0% {\n",
              "      border-color: transparent;\n",
              "      border-bottom-color: var(--fill-color);\n",
              "      border-left-color: var(--fill-color);\n",
              "    }\n",
              "    20% {\n",
              "      border-color: transparent;\n",
              "      border-left-color: var(--fill-color);\n",
              "      border-top-color: var(--fill-color);\n",
              "    }\n",
              "    30% {\n",
              "      border-color: transparent;\n",
              "      border-left-color: var(--fill-color);\n",
              "      border-top-color: var(--fill-color);\n",
              "      border-right-color: var(--fill-color);\n",
              "    }\n",
              "    40% {\n",
              "      border-color: transparent;\n",
              "      border-right-color: var(--fill-color);\n",
              "      border-top-color: var(--fill-color);\n",
              "    }\n",
              "    60% {\n",
              "      border-color: transparent;\n",
              "      border-right-color: var(--fill-color);\n",
              "    }\n",
              "    80% {\n",
              "      border-color: transparent;\n",
              "      border-right-color: var(--fill-color);\n",
              "      border-bottom-color: var(--fill-color);\n",
              "    }\n",
              "    90% {\n",
              "      border-color: transparent;\n",
              "      border-bottom-color: var(--fill-color);\n",
              "    }\n",
              "  }\n",
              "</style>\n",
              "\n",
              "      <script>\n",
              "        async function quickchart(key) {\n",
              "          const quickchartButtonEl =\n",
              "            document.querySelector('#' + key + ' button');\n",
              "          quickchartButtonEl.disabled = true;  // To prevent multiple clicks.\n",
              "          quickchartButtonEl.classList.add('colab-df-spinner');\n",
              "          try {\n",
              "            const charts = await google.colab.kernel.invokeFunction(\n",
              "                'suggestCharts', [key], {});\n",
              "          } catch (error) {\n",
              "            console.error('Error during call to suggestCharts:', error);\n",
              "          }\n",
              "          quickchartButtonEl.classList.remove('colab-df-spinner');\n",
              "          quickchartButtonEl.classList.add('colab-df-quickchart-complete');\n",
              "        }\n",
              "        (() => {\n",
              "          let quickchartButtonEl =\n",
              "            document.querySelector('#df-3c7265fb-2f9a-47e1-a51e-a8eef9c80ab4 button');\n",
              "          quickchartButtonEl.style.display =\n",
              "            google.colab.kernel.accessAllowed ? 'block' : 'none';\n",
              "        })();\n",
              "      </script>\n",
              "    </div>\n",
              "\n",
              "    </div>\n",
              "  </div>\n"
            ],
            "application/vnd.google.colaboratory.intrinsic+json": {
              "type": "dataframe",
              "variable_name": "df",
              "summary": "{\n  \"name\": \"df\",\n  \"rows\": 3199,\n  \"fields\": [\n    {\n      \"column\": \"transaction_id\",\n      \"properties\": {\n        \"dtype\": \"number\",\n        \"std\": 923,\n        \"min\": 21320398,\n        \"max\": 21323596,\n        \"num_unique_values\": 3199,\n        \"samples\": [\n          21322839,\n          21321325,\n          21321000\n        ],\n        \"semantic_type\": \"\",\n        \"description\": \"\"\n      }\n    },\n    {\n      \"column\": \"merchant_id\",\n      \"properties\": {\n        \"dtype\": \"number\",\n        \"std\": 29100,\n        \"min\": 16,\n        \"max\": 99799,\n        \"num_unique_values\": 1756,\n        \"samples\": [\n          43771,\n          52359,\n          51744\n        ],\n        \"semantic_type\": \"\",\n        \"description\": \"\"\n      }\n    },\n    {\n      \"column\": \"user_id\",\n      \"properties\": {\n        \"dtype\": \"number\",\n        \"std\": 29515,\n        \"min\": 6,\n        \"max\": 99974,\n        \"num_unique_values\": 2704,\n        \"samples\": [\n          86620,\n          41092,\n          94240\n        ],\n        \"semantic_type\": \"\",\n        \"description\": \"\"\n      }\n    },\n    {\n      \"column\": \"card_number\",\n      \"properties\": {\n        \"dtype\": \"string\",\n        \"num_unique_values\": 2925,\n        \"samples\": [\n          \"485464******8740\",\n          \"498453******3182\",\n          \"528392******1875\"\n        ],\n        \"semantic_type\": \"\",\n        \"description\": \"\"\n      }\n    },\n    {\n      \"column\": \"transaction_date\",\n      \"properties\": {\n        \"dtype\": \"object\",\n        \"num_unique_values\": 3199,\n        \"samples\": [\n          \"2019-11-18T16:03:21.232777\",\n          \"2019-11-28T17:21:42.715158\",\n          \"2019-11-29T16:36:24.448368\"\n        ],\n        \"semantic_type\": \"\",\n        \"description\": \"\"\n      }\n    },\n    {\n      \"column\": \"transaction_amount\",\n      \"properties\": {\n        \"dtype\": \"number\",\n        \"std\": 889.0959040800284,\n        \"min\": 1.22,\n        \"max\": 4097.21,\n        \"num_unique_values\": 3124,\n        \"samples\": [\n          688.03,\n          664.29,\n          389.59\n        ],\n        \"semantic_type\": \"\",\n        \"description\": \"\"\n      }\n    },\n    {\n      \"column\": \"device_id\",\n      \"properties\": {\n        \"dtype\": \"number\",\n        \"std\": 283785.5845453894,\n        \"min\": 2.0,\n        \"max\": 999843.0,\n        \"num_unique_values\": 1996,\n        \"samples\": [\n          471801.0,\n          170620.0,\n          896735.0\n        ],\n        \"semantic_type\": \"\",\n        \"description\": \"\"\n      }\n    },\n    {\n      \"column\": \"has_cbk\",\n      \"properties\": {\n        \"dtype\": \"boolean\",\n        \"num_unique_values\": 2,\n        \"samples\": [\n          true,\n          false\n        ],\n        \"semantic_type\": \"\",\n        \"description\": \"\"\n      }\n    }\n  ]\n}"
            }
          },
          "metadata": {},
          "execution_count": 3
        }
      ],
      "source": [
        "# Substitua pelo caminho do seu CSV\n",
        "df = pd.read_csv('/content/drive/MyDrive/data/transactional-sample.csv')\n",
        "df.head()"
      ],
      "id": "DTGQLQ_PBu4E"
    },
    {
      "cell_type": "markdown",
      "metadata": {
        "id": "pG2uOvIQBu4E"
      },
      "source": [
        "## 2. Pré-processamento dos dados"
      ],
      "id": "pG2uOvIQBu4E"
    },
    {
      "cell_type": "code",
      "execution_count": 4,
      "metadata": {
        "id": "toSbkorLBu4F",
        "outputId": "b81cfcd2-fafc-43cd-87b8-057b07f731e3",
        "colab": {
          "base_uri": "https://localhost:8080/"
        }
      },
      "outputs": [
        {
          "output_type": "stream",
          "name": "stdout",
          "text": [
            "<class 'pandas.core.frame.DataFrame'>\n",
            "RangeIndex: 3199 entries, 0 to 3198\n",
            "Data columns (total 8 columns):\n",
            " #   Column              Non-Null Count  Dtype  \n",
            "---  ------              --------------  -----  \n",
            " 0   transaction_id      3199 non-null   int64  \n",
            " 1   merchant_id         3199 non-null   int64  \n",
            " 2   user_id             3199 non-null   int64  \n",
            " 3   card_number         3199 non-null   object \n",
            " 4   transaction_date    3199 non-null   object \n",
            " 5   transaction_amount  3199 non-null   float64\n",
            " 6   device_id           2369 non-null   float64\n",
            " 7   has_cbk             3199 non-null   bool   \n",
            "dtypes: bool(1), float64(2), int64(3), object(2)\n",
            "memory usage: 178.2+ KB\n",
            "None\n",
            "\n",
            "Nulos:\n",
            " transaction_id          0\n",
            "merchant_id             0\n",
            "user_id                 0\n",
            "card_number             0\n",
            "transaction_date        0\n",
            "transaction_amount      0\n",
            "device_id             830\n",
            "has_cbk                 0\n",
            "dtype: int64\n"
          ]
        }
      ],
      "source": [
        "# Verificando nulos e tipos de dados\n",
        "print(df.info())\n",
        "print(\"\\nNulos:\\n\", df.isnull().sum())\n",
        "\n",
        "# Convertendo datas\n",
        "if df['transaction_date'].dtype == 'object':\n",
        "    df['transaction_date'] = pd.to_datetime(df['transaction_date'])"
      ],
      "id": "toSbkorLBu4F"
    },
    {
      "cell_type": "code",
      "execution_count": 5,
      "metadata": {
        "id": "TmBvb3gNBu4F"
      },
      "outputs": [],
      "source": [
        "# Removendo duplicatas e dados inconsistentes\n",
        "df = df.drop_duplicates()\n",
        "df = df[df['transaction_amount'] > 0]\n",
        "\n",
        "# Normalizando colunas de texto se necessário (ex: card_number)\n",
        "df['card_number'] = df['card_number'].astype(str).str.replace(r'\\D', '', regex=True)"
      ],
      "id": "TmBvb3gNBu4F"
    },
    {
      "cell_type": "markdown",
      "metadata": {
        "id": "MgoDDKqIBu4F"
      },
      "source": [
        "## 3. Análise Exploratória"
      ],
      "id": "MgoDDKqIBu4F"
    },
    {
      "cell_type": "code",
      "execution_count": 6,
      "metadata": {
        "id": "da1SAwY2Bu4F",
        "outputId": "4e110415-a052-4ee0-cf5a-bc04427159fb",
        "colab": {
          "base_uri": "https://localhost:8080/"
        }
      },
      "outputs": [
        {
          "output_type": "stream",
          "name": "stdout",
          "text": [
            "       transaction_id   merchant_id       user_id  \\\n",
            "count    3.199000e+03   3199.000000   3199.000000   \n",
            "mean     2.132200e+07  48771.128790  50891.077212   \n",
            "min      2.132040e+07     16.000000      6.000000   \n",
            "25%      2.132120e+07  23426.000000  24267.500000   \n",
            "50%      2.132200e+07  48752.000000  52307.000000   \n",
            "75%      2.132280e+07  73915.000000  76837.000000   \n",
            "max      2.132360e+07  99799.000000  99974.000000   \n",
            "std      9.236161e+02  29100.360839  29515.282827   \n",
            "\n",
            "                    transaction_date  transaction_amount      device_id  \n",
            "count                           3199         3199.000000    2369.000000  \n",
            "mean   2019-11-22 12:47:02.242350336          767.812904  493924.859856  \n",
            "min       2019-11-01 01:27:15.811098            1.220000       2.000000  \n",
            "25%    2019-11-18 18:35:57.557812992          205.235000  259344.000000  \n",
            "50%    2019-11-23 13:50:58.758107904          415.940000  495443.000000  \n",
            "75%    2019-11-28 21:51:06.055557376          981.680000  733243.000000  \n",
            "max       2019-12-01 23:16:32.812632         4097.210000  999843.000000  \n",
            "std                              NaN          889.095904  283785.584545  \n",
            "\n",
            "Transações com estorno: 391\n"
          ]
        }
      ],
      "source": [
        "# Estatísticas gerais\n",
        "print(df.describe())\n",
        "print(\"\\nTransações com estorno:\", df['has_cbk'].sum())"
      ],
      "id": "da1SAwY2Bu4F"
    },
    {
      "cell_type": "code",
      "execution_count": 7,
      "metadata": {
        "id": "XrpvKYuqBu4G",
        "outputId": "3d7c98e5-0ca2-4290-ab3b-d37d399d6275",
        "colab": {
          "base_uri": "https://localhost:8080/",
          "height": 419
        }
      },
      "outputs": [
        {
          "output_type": "display_data",
          "data": {
            "text/plain": [
              "<Figure size 1000x400 with 1 Axes>"
            ],
            "image/png": "[encoded data removed]"
          },
          "metadata": {}
        }
      ],
      "source": [
        "# Distribuição temporal\n",
        "df['hour'] = df['transaction_date'].dt.hour\n",
        "df['day'] = df['transaction_date'].dt.date\n",
        "\n",
        "plt.figure(figsize=(10,4))\n",
        "sns.countplot(x='hour', data=df, hue='has_cbk')\n",
        "plt.title('Transações por Hora com Estornos')\n",
        "plt.show()"
      ],
      "id": "XrpvKYuqBu4G"
    },
    {
      "cell_type": "markdown",
      "metadata": {
        "id": "QIphQCltBu4G"
      },
      "source": [
        "## 4. Regras Antifraude Simples"
      ],
      "id": "QIphQCltBu4G"
    },
    {
      "cell_type": "code",
      "execution_count": 8,
      "metadata": {
        "id": "jJiIWSx_Bu4G"
      },
      "outputs": [],
      "source": [
        "# Sistema antifraude baseado em regras simples\n",
        "def avaliar_transacao(transacao, historico):\n",
        "    user_transacoes = historico[historico['user_id'] == transacao['user_id']]\n",
        "\n",
        "    # Regra 1: Mais de 5 transações na última hora\n",
        "    recentes = user_transacoes[user_transacoes['transaction_date'] > transacao['transaction_date'] - timedelta(hours=1)]\n",
        "    if len(recentes) > 5:\n",
        "        return \"recusar\"\n",
        "\n",
        "    # Regra 2: Limite diário > R$5000\n",
        "    dia = transacao['transaction_date'].date()\n",
        "    total_dia = user_transacoes[user_transacoes['transaction_date'].dt.date == dia]['transaction_amount'].sum()\n",
        "    if total_dia + transacao['transaction_amount'] > 5000:\n",
        "        return \"recusar\"\n",
        "\n",
        "    # Regra 3: Usuário com histórico de estorno\n",
        "    if user_transacoes['has_cbk'].any():\n",
        "        return \"recusar\"\n",
        "\n",
        "    return \"aprovar\""
      ],
      "id": "jJiIWSx_Bu4G"
    },
    {
      "cell_type": "markdown",
      "metadata": {
        "id": "ndfBcARRBu4G"
      },
      "source": [
        "## 5. Simulação de avaliação de transações"
      ],
      "id": "ndfBcARRBu4G"
    },
    {
      "cell_type": "code",
      "execution_count": 9,
      "metadata": {
        "id": "dcLis4gWBu4G",
        "outputId": "6ede9184-7567-4649-f2d1-4136f3d14c61",
        "colab": {
          "base_uri": "https://localhost:8080/",
          "height": 241
        }
      },
      "outputs": [
        {
          "output_type": "execute_result",
          "data": {
            "text/plain": [
              "recomendacao  has_cbk\n",
              "aprovar       False      0.865583\n",
              "recusar       True       0.074398\n",
              "aprovar       True       0.047827\n",
              "recusar       False      0.012191\n",
              "Name: proportion, dtype: float64"
            ],
            "text/html": [
              "<div>\n",
              "<style scoped>\n",
              "    .dataframe tbody tr th:only-of-type {\n",
              "        vertical-align: middle;\n",
              "    }\n",
              "\n",
              "    .dataframe tbody tr th {\n",
              "        vertical-align: top;\n",
              "    }\n",
              "\n",
              "    .dataframe thead th {\n",
              "        text-align: right;\n",
              "    }\n",
              "</style>\n",
              "<table border=\"1\" class=\"dataframe\">\n",
              "  <thead>\n",
              "    <tr style=\"text-align: right;\">\n",
              "      <th></th>\n",
              "      <th></th>\n",
              "      <th>proportion</th>\n",
              "    </tr>\n",
              "    <tr>\n",
              "      <th>recomendacao</th>\n",
              "      <th>has_cbk</th>\n",
              "      <th></th>\n",
              "    </tr>\n",
              "  </thead>\n",
              "  <tbody>\n",
              "    <tr>\n",
              "      <th>aprovar</th>\n",
              "      <th>False</th>\n",
              "      <td>0.865583</td>\n",
              "    </tr>\n",
              "    <tr>\n",
              "      <th>recusar</th>\n",
              "      <th>True</th>\n",
              "      <td>0.074398</td>\n",
              "    </tr>\n",
              "    <tr>\n",
              "      <th>aprovar</th>\n",
              "      <th>True</th>\n",
              "      <td>0.047827</td>\n",
              "    </tr>\n",
              "    <tr>\n",
              "      <th>recusar</th>\n",
              "      <th>False</th>\n",
              "      <td>0.012191</td>\n",
              "    </tr>\n",
              "  </tbody>\n",
              "</table>\n",
              "</div><br><label><b>dtype:</b> float64</label>"
            ]
          },
          "metadata": {},
          "execution_count": 9
        }
      ],
      "source": [
        "# Exemplo: simular decisões\n",
        "resultados = []\n",
        "\n",
        "for i, row in df.iterrows():\n",
        "    decisao = avaliar_transacao(row, df[df['transaction_date'] < row['transaction_date']])\n",
        "    resultados.append(decisao)\n",
        "\n",
        "df['recomendacao'] = resultados\n",
        "\n",
        "# Comparando com estornos reais\n",
        "df[['recomendacao', 'has_cbk']].value_counts(normalize=True)"
      ],
      "id": "dcLis4gWBu4G"
    },
    {
      "cell_type": "markdown",
      "metadata": {
        "id": "4NpXs_DPBu4H"
      },
      "source": [
        "## 6. Conclusões e próximos passos"
      ],
      "id": "4NpXs_DPBu4H"
    },
    {
      "cell_type": "code",
      "execution_count": 10,
      "metadata": {
        "id": "rBaKP_y-Bu4H",
        "outputId": "f3cb1e3f-f84d-4cce-86bb-0b06fab2f075",
        "colab": {
          "base_uri": "https://localhost:8080/"
        }
      },
      "outputs": [
        {
          "output_type": "stream",
          "name": "stdout",
          "text": [
            "Sugestão: adicionar geolocalização e device_info para melhorar o score de risco.\n"
          ]
        }
      ],
      "source": [
        "# Exemplo de recomendação de melhoria\n",
        "print(\"Sugestão: adicionar geolocalização e device_info para melhorar o score de risco.\")"
      ],
      "id": "rBaKP_y-Bu4H"
    }
  ],
  "metadata": {
    "kernelspec": {
      "display_name": "Python 3",
      "language": "python",
      "name": "python3"
    },
    "language_info": {
      "name": "python",
      "version": "3.8"
    },
    "colab": {
      "provenance": [],
      "include_colab_link": true
    }
  },
  "nbformat": 4,
  "nbformat_minor": 5
}