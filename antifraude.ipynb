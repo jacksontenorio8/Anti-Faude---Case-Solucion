{
 "cells": [
  {
   "cell_type": "markdown",
   "id": "ffaa5f94",
   "metadata": {},
   "source": [
    "\n",
    "# Sistema Antifraude com Machine Learning\n",
    "\n",
    "Este notebook é uma evolução do projeto antifraude, incorporando:\n",
    "- Modelos de Machine Learning supervisionado\n",
    "- Regras baseadas em comportamento e histórico\n",
    "- Considerações legais e operacionais (Desafio 2)\n",
    "- Boas práticas de arquitetura, estilo e segurança\n",
    "\n",
    "O objetivo final é criar um sistema capaz de receber dados de transações e indicar se devem ser **aprovadas** ou **recusadas** com base em dados históricos e análises preditivas.\n"
   ]
  },
  {
   "cell_type": "markdown",
   "id": "fa455ede",
   "metadata": {},
   "source": [
    "\n",
    "# Sistema Antifraude v3 🕵️‍♂️\n",
    "\n",
    "Este notebook simula um sistema antifraude simples com as seguintes regras:\n",
    "- Rejeita transações se o usuário tiver feito muitas transações seguidas em pouco tempo.\n",
    "- Rejeita transações acima de um limite diário.\n",
    "- Rejeita transações se o usuário teve um estorno (`has_cbk = 1`) anteriormente.\n"
   ]
  },
  {
   "cell_type": "code",
   "execution_count": null,
   "id": "2cd27bad",
   "metadata": {},
   "outputs": [],
   "source": [
    "\n",
    "import pandas as pd\n",
    "import numpy as np\n",
    "from datetime import datetime, timedelta\n",
    "\n",
    "# Exibir todos os warnings e erros no notebook\n",
    "import warnings\n",
    "warnings.filterwarnings('ignore')\n"
   ]
  },
  {
   "cell_type": "code",
   "execution_count": null,
   "id": "039496de",
   "metadata": {},
   "outputs": [],
   "source": [
    "\n",
    "# Substituir pelo caminho correto se necessário\n",
    "df = pd.read_csv(\"seu_arquivo.csv\", parse_dates=[\"transaction_date\"])\n",
    "\n",
    "# Ordenar os dados por user e data\n",
    "df.sort_values(by=[\"user_id\", \"transaction_date\"], inplace=True)\n",
    "df.reset_index(drop=True, inplace=True)\n"
   ]
  },
  {
   "cell_type": "code",
   "execution_count": null,
   "id": "5d27f8c2",
   "metadata": {},
   "outputs": [],
   "source": [
    "\n",
    "def aplicar_regras_antifraude(df):\n",
    "    df['is_fraud'] = False\n",
    "\n",
    "    # Mapeamento de chargebacks anteriores\n",
    "    usuarios_com_cbk = set(df[df['has_cbk'] == 1]['user_id'].unique())\n",
    "\n",
    "    for idx, row in df.iterrows():\n",
    "        user = row['user_id']\n",
    "        date = row['transaction_date']\n",
    "        amount = row['transaction_amount']\n",
    "\n",
    "        # Transações recentes no mesmo dia\n",
    "        ultimas_transacoes = df[(df['user_id'] == user) & \n",
    "                                (df['transaction_date'] < date) &\n",
    "                                (df['transaction_date'] >= date - timedelta(minutes=10))]\n",
    "\n",
    "        if len(ultimas_transacoes) >= 3:\n",
    "            df.at[idx, 'is_fraud'] = True\n",
    "            continue\n",
    "\n",
    "        # Total no mesmo dia (rolling window 24h)\n",
    "        transacoes_24h = df[(df['user_id'] == user) &\n",
    "                            (df['transaction_date'] >= date - timedelta(hours=24)) &\n",
    "                            (df['transaction_date'] < date)]\n",
    "\n",
    "        total_24h = transacoes_24h['transaction_amount'].sum() + amount\n",
    "        if total_24h > 1000:  # exemplo: limite de R$1000 por 24h\n",
    "            df.at[idx, 'is_fraud'] = True\n",
    "            continue\n",
    "\n",
    "        # Estorno anterior\n",
    "        if user in usuarios_com_cbk:\n",
    "            df.at[idx, 'is_fraud'] = True\n",
    "            continue\n",
    "\n",
    "    return df\n"
   ]
  },
  {
   "cell_type": "code",
   "execution_count": null,
   "id": "f5d004a7",
   "metadata": {},
   "outputs": [],
   "source": [
    "\n",
    "df = aplicar_regras_antifraude(df)\n",
    "df[['user_id', 'transaction_date', 'transaction_amount', 'has_cbk', 'is_fraud']].head(10)\n"
   ]
  }
 ],
 "metadata": {},
 "nbformat": 4,
 "nbformat_minor": 5
}
