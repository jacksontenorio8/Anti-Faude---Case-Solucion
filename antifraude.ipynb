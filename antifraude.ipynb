{
 "cells": [
  {
   "cell_type": "code",
   "execution_count": null,
   "id": "76b86522",
   "metadata": {},
   "outputs": [],
   "source": [
    "from google.colab import drive\n",
    "drive.mount('/content/drive')"
   ]
  },
  {
   "cell_type": "code",
   "execution_count": null,
   "id": "85ad1917",
   "metadata": {},
   "outputs": [],
   "source": [
    "import pandas as pd\n",
    "\n",
    "# Substitua pelo caminho correto se necessário\n",
    "csv_path = '/content/drive/MyDrive/transacoes.csv'\n",
    "df = pd.read_csv(csv_path)\n",
    "df.head()"
   ]
  },
  {
   "cell_type": "code",
   "execution_count": null,
   "id": "fa6efb45",
   "metadata": {},
   "outputs": [],
   "source": [
    "# Pré-processamento simples\n",
    "df['timestamp'] = pd.to_datetime(df['timestamp'])\n",
    "df['has_cbk'] = df['has_cbk'].fillna(False).astype(bool)\n",
    "\n",
    "# Regras simples\n",
    "def regras_simples(df):\n",
    "    df['flag_muitas_transacoes'] = df.groupby('user_id')['timestamp'].transform(lambda x: x.diff().dt.total_seconds().fillna(9999) < 10)\n",
    "    df['flag_valor_alto'] = df['transaction_amount'] > 10000\n",
    "    df['flag_estorno'] = df['has_cbk']\n",
    "    df['fraude_regra'] = df[['flag_muitas_transacoes', 'flag_valor_alto', 'flag_estorno']].any(axis=1)\n",
    "    return df\n",
    "\n",
    "df = regras_simples(df)\n",
    "df['fraude_regra'].value_counts()"
   ]
  },
  {
   "cell_type": "code",
   "execution_count": null,
   "id": "5ddd4543",
   "metadata": {},
   "outputs": [],
   "source": [
    "from sklearn.model_selection import train_test_split\n",
    "from sklearn.ensemble import RandomForestClassifier\n",
    "from xgboost import XGBClassifier\n",
    "from lightgbm import LGBMClassifier\n",
    "from sklearn.metrics import classification_report, confusion_matrix, ConfusionMatrixDisplay\n",
    "\n",
    "# Features e label\n",
    "features = ['transaction_amount', 'flag_muitas_transacoes', 'flag_valor_alto', 'flag_estorno']\n",
    "df[features] = df[features].astype(float)\n",
    "X = df[features]\n",
    "y = df['fraude_regra'].astype(int)\n",
    "\n",
    "X_train, X_test, y_train, y_test = train_test_split(X, y, test_size=0.2, random_state=42)\n",
    "\n",
    "# Escolha do modelo\n",
    "modelo = RandomForestClassifier(n_estimators=100, random_state=42)\n",
    "# modelo = XGBClassifier()\n",
    "# modelo = LGBMClassifier()\n",
    "modelo.fit(X_train, y_train)\n",
    "y_pred = modelo.predict(X_test)\n",
    "\n",
    "print(classification_report(y_test, y_pred))\n",
    "ConfusionMatrixDisplay.from_predictions(y_test, y_pred)"
   ]
  },
  {
   "cell_type": "code",
   "execution_count": null,
   "id": "cc570c05",
   "metadata": {},
   "outputs": [],
   "source": [
    "import joblib\n",
    "\n",
    "# Exporta o modelo treinado\n",
    "joblib.dump(modelo, '/content/drive/MyDrive/modelo_antifraude.pkl')\n",
    "print(\"Modelo exportado com sucesso!\")"
   ]
  },
  {
   "cell_type": "code",
   "execution_count": null,
   "id": "736b6414",
   "metadata": {},
   "outputs": [],
   "source": [
    "# Para rodar localmente: salve como app.py e execute com `flask run`\n",
    "from flask import Flask, request, jsonify\n",
    "import joblib\n",
    "import pandas as pd\n",
    "\n",
    "app = Flask(__name__)\n",
    "modelo = joblib.load(\"modelo_antifraude.pkl\")\n",
    "\n",
    "@app.route('/predict', methods=['POST'])\n",
    "def predict():\n",
    "    dados = request.json\n",
    "    df = pd.DataFrame([dados])\n",
    "    pred = modelo.predict(df)[0]\n",
    "    return jsonify({'fraude': bool(pred)})\n",
    "\n",
    "# Para rodar localmente, descomente a linha abaixo\n",
    "# app.run(host='0.0.0.0', port=5000)\n"
   ]
  }
 ],
 "metadata": {},
 "nbformat": 4,
 "nbformat_minor": 5
}
